{
 "cells": [
  {
   "cell_type": "code",
   "execution_count": null,
   "id": "f3fad9e1-af87-49e2-b7c6-84d5de43d29f",
   "metadata": {},
   "outputs": [],
   "source": []
  }
 ],
 "metadata": {
  "kernelspec": {
   "display_name": "",
   "name": ""
  },
  "language_info": {
   "name": ""
  }
 },
 "nbformat": 4,
 "nbformat_minor": 5
}
